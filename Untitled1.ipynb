{
  "nbformat": 4,
  "nbformat_minor": 0,
  "metadata": {
    "colab": {
      "name": "Untitled1.ipynb",
      "version": "0.3.2",
      "provenance": [],
      "include_colab_link": true
    },
    "kernelspec": {
      "name": "python3",
      "display_name": "Python 3"
    }
  },
  "cells": [
    {
      "cell_type": "markdown",
      "metadata": {
        "id": "view-in-github",
        "colab_type": "text"
      },
      "source": [
        "<a href=\"https://colab.research.google.com/github/25prateek/google_colab/blob/master/Untitled1.ipynb\" target=\"_parent\"><img src=\"https://colab.research.google.com/assets/colab-badge.svg\" alt=\"Open In Colab\"/></a>"
      ]
    },
    {
      "cell_type": "code",
      "metadata": {
        "id": "Yq-SMQzQT-DT",
        "colab_type": "code",
        "colab": {}
      },
      "source": [
        "import matplotlib\n"
      ],
      "execution_count": 0,
      "outputs": []
    },
    {
      "cell_type": "code",
      "metadata": {
        "id": "-dzA3LmIULmR",
        "colab_type": "code",
        "outputId": "315d207b-ab3b-4696-846b-195913e1554a",
        "colab": {
          "base_uri": "https://localhost:8080/",
          "height": 3004
        }
      },
      "source": [
        "dir(matplotlib)\n"
      ],
      "execution_count": 0,
      "outputs": [
        {
          "output_type": "execute_result",
          "data": {
            "text/plain": [
              "['MatplotlibDeprecationWarning',\n",
              " 'MutableMapping',\n",
              " 'Parameter',\n",
              " 'Path',\n",
              " 'RcParams',\n",
              " 'URL_REGEX',\n",
              " 'Verbose',\n",
              " '_DATA_DOC_APPENDIX',\n",
              " '__bibtex__',\n",
              " '__builtins__',\n",
              " '__cached__',\n",
              " '__doc__',\n",
              " '__file__',\n",
              " '__loader__',\n",
              " '__name__',\n",
              " '__package__',\n",
              " '__path__',\n",
              " '__spec__',\n",
              " '__version__',\n",
              " '__version__numpy__',\n",
              " '__warningregistry__',\n",
              " '_add_data_doc',\n",
              " '_all_deprecated',\n",
              " '_cm',\n",
              " '_cm_listed',\n",
              " '_color_data',\n",
              " '_constrained_layout',\n",
              " '_contour',\n",
              " '_create_tmp_config_dir',\n",
              " '_deprecated_ignore_map',\n",
              " '_deprecated_map',\n",
              " '_deprecated_remain_as_none',\n",
              " '_error_details_fmt',\n",
              " '_get_config_or_cache_dir',\n",
              " '_get_data_path',\n",
              " '_get_xdg_cache_dir',\n",
              " '_get_xdg_config_dir',\n",
              " '_image',\n",
              " '_init_tests',\n",
              " '_layoutbox',\n",
              " '_log',\n",
              " '_logged_cached',\n",
              " '_mathtext_data',\n",
              " '_open_file_or_url',\n",
              " '_parse_commandline',\n",
              " '_path',\n",
              " '_png',\n",
              " '_preprocess_data',\n",
              " '_pylab_helpers',\n",
              " '_qhull',\n",
              " '_rc_params_in_file',\n",
              " '_replacer',\n",
              " '_set_logger_verbose_level',\n",
              " '_tri',\n",
              " '_verbose_msg',\n",
              " '_version',\n",
              " 'afm',\n",
              " 'artist',\n",
              " 'atexit',\n",
              " 'axes',\n",
              " 'axis',\n",
              " 'backend_bases',\n",
              " 'backend_tools',\n",
              " 'backends',\n",
              " 'bezier',\n",
              " 'blocking_input',\n",
              " 'category',\n",
              " 'cbook',\n",
              " 'checkdep_dvipng',\n",
              " 'checkdep_ghostscript',\n",
              " 'checkdep_inkscape',\n",
              " 'checkdep_pdftops',\n",
              " 'checkdep_ps_distiller',\n",
              " 'checkdep_usetex',\n",
              " 'cm',\n",
              " 'collections',\n",
              " 'colorbar',\n",
              " 'colors',\n",
              " 'compare_versions',\n",
              " 'container',\n",
              " 'contextlib',\n",
              " 'contour',\n",
              " 'cycler',\n",
              " 'dates',\n",
              " 'dateutil',\n",
              " 'dedent',\n",
              " 'defaultParams',\n",
              " 'default_test_modules',\n",
              " 'distutils',\n",
              " 'docstring',\n",
              " 'dviread',\n",
              " 'figure',\n",
              " 'font_manager',\n",
              " 'fontconfig_pattern',\n",
              " 'ft2font',\n",
              " 'functools',\n",
              " 'get_backend',\n",
              " 'get_cachedir',\n",
              " 'get_configdir',\n",
              " 'get_data_path',\n",
              " 'get_home',\n",
              " 'get_label',\n",
              " 'get_py2exe_datafiles',\n",
              " 'gridspec',\n",
              " 'image',\n",
              " 'importlib',\n",
              " 'inspect',\n",
              " 'interactive',\n",
              " 'io',\n",
              " 'is_interactive',\n",
              " 'is_url',\n",
              " 'legend',\n",
              " 'legend_handler',\n",
              " 'lines',\n",
              " 'locale',\n",
              " 'logging',\n",
              " 'markers',\n",
              " 'mathtext',\n",
              " 'matplotlib_fname',\n",
              " 'mlab',\n",
              " 'mplDeprecation',\n",
              " 'numpy',\n",
              " 'offsetbox',\n",
              " 'os',\n",
              " 'patches',\n",
              " 'path',\n",
              " 'pprint',\n",
              " 'projections',\n",
              " 'pyparsing',\n",
              " 'pyplot',\n",
              " 'quiver',\n",
              " 'rc',\n",
              " 'rcParams',\n",
              " 'rcParamsDefault',\n",
              " 'rcParamsOrig',\n",
              " 'rc_context',\n",
              " 'rc_file',\n",
              " 'rc_file_defaults',\n",
              " 'rc_params',\n",
              " 'rc_params_from_file',\n",
              " 'rcdefaults',\n",
              " 'rcsetup',\n",
              " 're',\n",
              " 'sanitize_sequence',\n",
              " 'scale',\n",
              " 'shutil',\n",
              " 'spines',\n",
              " 'stackplot',\n",
              " 'stat',\n",
              " 'streamplot',\n",
              " 'style',\n",
              " 'subprocess',\n",
              " 'sys',\n",
              " 'table',\n",
              " 'tempfile',\n",
              " 'test',\n",
              " 'texmanager',\n",
              " 'text',\n",
              " 'textpath',\n",
              " 'ticker',\n",
              " 'tight_bbox',\n",
              " 'tight_layout',\n",
              " 'tk_window_focus',\n",
              " 'transforms',\n",
              " 'tri',\n",
              " 'units',\n",
              " 'urllib',\n",
              " 'use',\n",
              " 'validate_backend',\n",
              " 'verbose',\n",
              " 'warnings',\n",
              " 'widgets']"
            ]
          },
          "metadata": {
            "tags": []
          },
          "execution_count": 2
        }
      ]
    },
    {
      "cell_type": "code",
      "metadata": {
        "id": "_FmI_pnCUOt_",
        "colab_type": "code",
        "colab": {}
      },
      "source": [
        "import matplotlib.pyplot as plt\n"
      ],
      "execution_count": 0,
      "outputs": []
    },
    {
      "cell_type": "code",
      "metadata": {
        "id": "sJjP5jSkVtdV",
        "colab_type": "code",
        "colab": {}
      },
      "source": [
        "x=[2,3,7,6,7,8]\n",
        "y=[9,5,5,2,6,10]\n",
        "x1=[2,5]\n",
        "y1=[7,5]\n"
      ],
      "execution_count": 0,
      "outputs": []
    },
    {
      "cell_type": "code",
      "metadata": {
        "id": "sKv8jkMjVxsW",
        "colab_type": "code",
        "outputId": "70277ee0-a9f8-4b58-bba5-6767e9e88f49",
        "colab": {
          "base_uri": "https://localhost:8080/",
          "height": 552
        }
      },
      "source": [
        "plt.xlabel(\"time\")\n",
        "plt.ylabel(\"speed\")\n",
        "plt.grid(color='green')\n",
        "plt.plot(x,y,label=\"water\")# this will draw a graph line with lable water\n",
        "plt.plot(x1,y1,label=\"sand\")#this will draw a graoh line with lable sand\n",
        "plt.legend()\n",
        "plt.ylim(0,12)\n",
        "plt.xlim(0,15)\n",
        "plt.show()\n",
        "plt.bar(x,y)\n",
        "#plt.show()\n",
        "plt.bar(x1,y1)"
      ],
      "execution_count": 0,
      "outputs": [
        {
          "output_type": "display_data",
          "data": {
            "image/png": "[encoded data removed]",
            "text/plain": [
              "<Figure size 432x288 with 1 Axes>"
            ]
          },
          "metadata": {
            "tags": []
          }
        },
        {
          "output_type": "execute_result",
          "data": {
            "text/plain": [
              "<BarContainer object of 2 artists>"
            ]
          },
          "metadata": {
            "tags": []
          },
          "execution_count": 35
        },
        {
          "output_type": "display_data",
          "data": {
            "image/png": "[encoded data removed]",
            "text/plain": [
              "<Figure size 432x288 with 1 Axes>"
            ]
          },
          "metadata": {
            "tags": []
          }
        }
      ]
    },
    {
      "cell_type": "code",
      "metadata": {
        "id": "cJt-XOBrV0nN",
        "colab_type": "code",
        "colab": {}
      },
      "source": [
        "player"
      ],
      "execution_count": 0,
      "outputs": []
    }
  ]
}